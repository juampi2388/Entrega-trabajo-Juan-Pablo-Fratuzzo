{
  "nbformat": 4,
  "nbformat_minor": 0,
  "metadata": {
    "colab": {
      "provenance": [],
      "mount_file_id": "1GHGSPrS2UT_fxvGrr32NqGqYCHXE11Cu",
      "authorship_tag": "ABX9TyPxIsRsg0rJ5ucxKs+3U6ly",
      "include_colab_link": true
    },
    "kernelspec": {
      "name": "python3",
      "display_name": "Python 3"
    },
    "language_info": {
      "name": "python"
    }
  },
  "cells": [
    {
      "cell_type": "markdown",
      "metadata": {
        "id": "view-in-github",
        "colab_type": "text"
      },
      "source": [
        "<a href=\"https://colab.research.google.com/github/juampi2388/Entrega-trabajo-Juan-Pablo-Fratuzzo/blob/main/Datasets%2BFratuzzoprimerentregaAPI0305.ipynb\" target=\"_parent\"><img src=\"https://colab.research.google.com/assets/colab-badge.svg\" alt=\"Open In Colab\"/></a>"
      ]
    },
    {
      "cell_type": "markdown",
      "source": [
        "**Rubros**\n",
        "\n",
        "Muestra los indicadores por zona como la apertura, el cierre y el riesgo de abrir un local en la Ciudad Autónoma de Buenos Aires.\n",
        "\n",
        "Variables relevantes: rubro, zonas, riesgo,indice_estabilidad, indice de apertura, indice de cierres.\n",
        "\n"
      ],
      "metadata": {
        "id": "kSP69gOeBoRF"
      }
    },
    {
      "cell_type": "markdown",
      "source": [
        "**Abstract**\n",
        "\n",
        "El presente trabajo busca determinar los factores que inciden en el crecimiento y desarrollo de nuevos locales comerciales en la Ciudad Autónoma de Buenos Aires. Por otro lado, se pretendo conocer el grado de asociación existente entre los distintos factores que integran el dataset. "
      ],
      "metadata": {
        "id": "pb_7SEocBglU"
      }
    },
    {
      "cell_type": "code",
      "execution_count": 1,
      "metadata": {
        "colab": {
          "base_uri": "https://localhost:8080/",
          "height": 661
        },
        "id": "9llimeBzzQeN",
        "outputId": "7bdbdc16-bdf7-44bd-b75c-e9f01e713171"
      },
      "outputs": [
        {
          "output_type": "execute_result",
          "data": {
            "text/plain": [
              "      MOC_RUBROS_ID  MOC_ZONAS_ID                  RUBRO  NIVEL_RIESGO  \\\n",
              "0                 1             1  INSUMOS PARA EL HOGAR           5.0   \n",
              "1                 2             2  INSUMOS PARA EL HOGAR           NaN   \n",
              "2                 3             3  INSUMOS PARA EL HOGAR           1.0   \n",
              "3                 4             4  INSUMOS PARA EL HOGAR           1.0   \n",
              "4                 5             5  INSUMOS PARA EL HOGAR           NaN   \n",
              "...             ...           ...                    ...           ...   \n",
              "2893           2894           157            VETERINARIA           1.0   \n",
              "2894           2895           158            VETERINARIA           1.0   \n",
              "2895           2896           159            VETERINARIA           3.0   \n",
              "2896           2897           160            VETERINARIA           3.0   \n",
              "2897           2898           161            VETERINARIA           5.0   \n",
              "\n",
              "      FACTURACION_PROM_ACTUAL  INDICE_CRECIMIENTO  INDICE_ESTABILIDAD  \\\n",
              "0                         1.0                 3.0                 1.0   \n",
              "1                         NaN                 NaN                 NaN   \n",
              "2                         4.0                 4.0                 2.0   \n",
              "3                         2.0                 4.0                 4.0   \n",
              "4                         NaN                 NaN                 NaN   \n",
              "...                       ...                 ...                 ...   \n",
              "2893                      2.0                 4.0                 4.0   \n",
              "2894                      2.0                 4.0                 2.0   \n",
              "2895                      4.0                 4.0                 4.0   \n",
              "2896                      1.0                 4.0                 3.0   \n",
              "2897                      NaN                 NaN                 1.0   \n",
              "\n",
              "      INDICE_APERTURA  INDICE_CIERRE  INDICE_SUPERVIVENCIA  ...  SUP_MENOS_1  \\\n",
              "0                0.00          16.67                   0.0  ...         0.00   \n",
              "1                0.00           0.00                   NaN  ...          NaN   \n",
              "2                0.00           0.00                 100.0  ...         0.00   \n",
              "3                0.00           0.00                 100.0  ...         0.00   \n",
              "4                0.00           0.00                   NaN  ...          NaN   \n",
              "...               ...            ...                   ...  ...          ...   \n",
              "2893             0.00           0.00                   NaN  ...         0.00   \n",
              "2894             0.00           0.00                 100.0  ...         0.00   \n",
              "2895             0.00           0.00                  50.0  ...         2.86   \n",
              "2896             9.09           0.00                  50.0  ...        10.81   \n",
              "2897             0.00         100.00                   0.0  ...         0.00   \n",
              "\n",
              "      SUP_ENTRE_1_Y_2  SUP_ENTRE_2_Y_3  SUP_ENTRE_3_Y_4  SUP_ENTRE_4_Y_5  \\\n",
              "0               10.00            45.00            15.00             0.00   \n",
              "1                 NaN              NaN              NaN              NaN   \n",
              "2               18.18            27.27            27.27            27.27   \n",
              "3                0.00             0.00            14.29             0.00   \n",
              "4                 NaN              NaN              NaN              NaN   \n",
              "...               ...              ...              ...              ...   \n",
              "2893            16.67             0.00             0.00             0.00   \n",
              "2894             0.00             0.00            75.00             0.00   \n",
              "2895             2.86            17.14             8.57             0.00   \n",
              "2896            10.81            18.92            10.81            16.22   \n",
              "2897            25.00             0.00             0.00            75.00   \n",
              "\n",
              "      SUP_MAS_5  FACTURACION_PROM_ANIO_ANT  NIVEL_LOCALES  \\\n",
              "0         30.00                        2.0            1.0   \n",
              "1           NaN                        NaN            NaN   \n",
              "2          0.00                        4.0            1.0   \n",
              "3         85.71                        3.0            1.0   \n",
              "4           NaN                        NaN            NaN   \n",
              "...         ...                        ...            ...   \n",
              "2893      83.33                        2.0            1.0   \n",
              "2894      25.00                        2.0            1.0   \n",
              "2895      68.57                        4.0            1.0   \n",
              "2896      32.43                        1.0            1.0   \n",
              "2897       0.00                        1.0            NaN   \n",
              "\n",
              "      INDICE_CIERRE_ANIO_ANT  INDICE_APERTURA_ANIO_ANT  \n",
              "0                      16.67                     16.67  \n",
              "1                        NaN                       NaN  \n",
              "2                        NaN                     33.33  \n",
              "3                        NaN                       NaN  \n",
              "4                        NaN                       NaN  \n",
              "...                      ...                       ...  \n",
              "2893                     NaN                     25.00  \n",
              "2894                     NaN                       NaN  \n",
              "2895                    9.09                      9.09  \n",
              "2896                   10.00                     30.00  \n",
              "2897                     NaN                     50.00  \n",
              "\n",
              "[2898 rows x 22 columns]"
            ],
            "text/html": [
              "\n",
              "  <div id=\"df-f704374f-6049-463c-aff5-b1b601ed02d9\">\n",
              "    <div class=\"colab-df-container\">\n",
              "      <div>\n",
              "<style scoped>\n",
              "    .dataframe tbody tr th:only-of-type {\n",
              "        vertical-align: middle;\n",
              "    }\n",
              "\n",
              "    .dataframe tbody tr th {\n",
              "        vertical-align: top;\n",
              "    }\n",
              "\n",
              "    .dataframe thead th {\n",
              "        text-align: right;\n",
              "    }\n",
              "</style>\n",
              "<table border=\"1\" class=\"dataframe\">\n",
              "  <thead>\n",
              "    <tr style=\"text-align: right;\">\n",
              "      <th></th>\n",
              "      <th>MOC_RUBROS_ID</th>\n",
              "      <th>MOC_ZONAS_ID</th>\n",
              "      <th>RUBRO</th>\n",
              "      <th>NIVEL_RIESGO</th>\n",
              "      <th>FACTURACION_PROM_ACTUAL</th>\n",
              "      <th>INDICE_CRECIMIENTO</th>\n",
              "      <th>INDICE_ESTABILIDAD</th>\n",
              "      <th>INDICE_APERTURA</th>\n",
              "      <th>INDICE_CIERRE</th>\n",
              "      <th>INDICE_SUPERVIVENCIA</th>\n",
              "      <th>...</th>\n",
              "      <th>SUP_MENOS_1</th>\n",
              "      <th>SUP_ENTRE_1_Y_2</th>\n",
              "      <th>SUP_ENTRE_2_Y_3</th>\n",
              "      <th>SUP_ENTRE_3_Y_4</th>\n",
              "      <th>SUP_ENTRE_4_Y_5</th>\n",
              "      <th>SUP_MAS_5</th>\n",
              "      <th>FACTURACION_PROM_ANIO_ANT</th>\n",
              "      <th>NIVEL_LOCALES</th>\n",
              "      <th>INDICE_CIERRE_ANIO_ANT</th>\n",
              "      <th>INDICE_APERTURA_ANIO_ANT</th>\n",
              "    </tr>\n",
              "  </thead>\n",
              "  <tbody>\n",
              "    <tr>\n",
              "      <th>0</th>\n",
              "      <td>1</td>\n",
              "      <td>1</td>\n",
              "      <td>INSUMOS PARA EL HOGAR</td>\n",
              "      <td>5.0</td>\n",
              "      <td>1.0</td>\n",
              "      <td>3.0</td>\n",
              "      <td>1.0</td>\n",
              "      <td>0.00</td>\n",
              "      <td>16.67</td>\n",
              "      <td>0.0</td>\n",
              "      <td>...</td>\n",
              "      <td>0.00</td>\n",
              "      <td>10.00</td>\n",
              "      <td>45.00</td>\n",
              "      <td>15.00</td>\n",
              "      <td>0.00</td>\n",
              "      <td>30.00</td>\n",
              "      <td>2.0</td>\n",
              "      <td>1.0</td>\n",
              "      <td>16.67</td>\n",
              "      <td>16.67</td>\n",
              "    </tr>\n",
              "    <tr>\n",
              "      <th>1</th>\n",
              "      <td>2</td>\n",
              "      <td>2</td>\n",
              "      <td>INSUMOS PARA EL HOGAR</td>\n",
              "      <td>NaN</td>\n",
              "      <td>NaN</td>\n",
              "      <td>NaN</td>\n",
              "      <td>NaN</td>\n",
              "      <td>0.00</td>\n",
              "      <td>0.00</td>\n",
              "      <td>NaN</td>\n",
              "      <td>...</td>\n",
              "      <td>NaN</td>\n",
              "      <td>NaN</td>\n",
              "      <td>NaN</td>\n",
              "      <td>NaN</td>\n",
              "      <td>NaN</td>\n",
              "      <td>NaN</td>\n",
              "      <td>NaN</td>\n",
              "      <td>NaN</td>\n",
              "      <td>NaN</td>\n",
              "      <td>NaN</td>\n",
              "    </tr>\n",
              "    <tr>\n",
              "      <th>2</th>\n",
              "      <td>3</td>\n",
              "      <td>3</td>\n",
              "      <td>INSUMOS PARA EL HOGAR</td>\n",
              "      <td>1.0</td>\n",
              "      <td>4.0</td>\n",
              "      <td>4.0</td>\n",
              "      <td>2.0</td>\n",
              "      <td>0.00</td>\n",
              "      <td>0.00</td>\n",
              "      <td>100.0</td>\n",
              "      <td>...</td>\n",
              "      <td>0.00</td>\n",
              "      <td>18.18</td>\n",
              "      <td>27.27</td>\n",
              "      <td>27.27</td>\n",
              "      <td>27.27</td>\n",
              "      <td>0.00</td>\n",
              "      <td>4.0</td>\n",
              "      <td>1.0</td>\n",
              "      <td>NaN</td>\n",
              "      <td>33.33</td>\n",
              "    </tr>\n",
              "    <tr>\n",
              "      <th>3</th>\n",
              "      <td>4</td>\n",
              "      <td>4</td>\n",
              "      <td>INSUMOS PARA EL HOGAR</td>\n",
              "      <td>1.0</td>\n",
              "      <td>2.0</td>\n",
              "      <td>4.0</td>\n",
              "      <td>4.0</td>\n",
              "      <td>0.00</td>\n",
              "      <td>0.00</td>\n",
              "      <td>100.0</td>\n",
              "      <td>...</td>\n",
              "      <td>0.00</td>\n",
              "      <td>0.00</td>\n",
              "      <td>0.00</td>\n",
              "      <td>14.29</td>\n",
              "      <td>0.00</td>\n",
              "      <td>85.71</td>\n",
              "      <td>3.0</td>\n",
              "      <td>1.0</td>\n",
              "      <td>NaN</td>\n",
              "      <td>NaN</td>\n",
              "    </tr>\n",
              "    <tr>\n",
              "      <th>4</th>\n",
              "      <td>5</td>\n",
              "      <td>5</td>\n",
              "      <td>INSUMOS PARA EL HOGAR</td>\n",
              "      <td>NaN</td>\n",
              "      <td>NaN</td>\n",
              "      <td>NaN</td>\n",
              "      <td>NaN</td>\n",
              "      <td>0.00</td>\n",
              "      <td>0.00</td>\n",
              "      <td>NaN</td>\n",
              "      <td>...</td>\n",
              "      <td>NaN</td>\n",
              "      <td>NaN</td>\n",
              "      <td>NaN</td>\n",
              "      <td>NaN</td>\n",
              "      <td>NaN</td>\n",
              "      <td>NaN</td>\n",
              "      <td>NaN</td>\n",
              "      <td>NaN</td>\n",
              "      <td>NaN</td>\n",
              "      <td>NaN</td>\n",
              "    </tr>\n",
              "    <tr>\n",
              "      <th>...</th>\n",
              "      <td>...</td>\n",
              "      <td>...</td>\n",
              "      <td>...</td>\n",
              "      <td>...</td>\n",
              "      <td>...</td>\n",
              "      <td>...</td>\n",
              "      <td>...</td>\n",
              "      <td>...</td>\n",
              "      <td>...</td>\n",
              "      <td>...</td>\n",
              "      <td>...</td>\n",
              "      <td>...</td>\n",
              "      <td>...</td>\n",
              "      <td>...</td>\n",
              "      <td>...</td>\n",
              "      <td>...</td>\n",
              "      <td>...</td>\n",
              "      <td>...</td>\n",
              "      <td>...</td>\n",
              "      <td>...</td>\n",
              "      <td>...</td>\n",
              "    </tr>\n",
              "    <tr>\n",
              "      <th>2893</th>\n",
              "      <td>2894</td>\n",
              "      <td>157</td>\n",
              "      <td>VETERINARIA</td>\n",
              "      <td>1.0</td>\n",
              "      <td>2.0</td>\n",
              "      <td>4.0</td>\n",
              "      <td>4.0</td>\n",
              "      <td>0.00</td>\n",
              "      <td>0.00</td>\n",
              "      <td>NaN</td>\n",
              "      <td>...</td>\n",
              "      <td>0.00</td>\n",
              "      <td>16.67</td>\n",
              "      <td>0.00</td>\n",
              "      <td>0.00</td>\n",
              "      <td>0.00</td>\n",
              "      <td>83.33</td>\n",
              "      <td>2.0</td>\n",
              "      <td>1.0</td>\n",
              "      <td>NaN</td>\n",
              "      <td>25.00</td>\n",
              "    </tr>\n",
              "    <tr>\n",
              "      <th>2894</th>\n",
              "      <td>2895</td>\n",
              "      <td>158</td>\n",
              "      <td>VETERINARIA</td>\n",
              "      <td>1.0</td>\n",
              "      <td>2.0</td>\n",
              "      <td>4.0</td>\n",
              "      <td>2.0</td>\n",
              "      <td>0.00</td>\n",
              "      <td>0.00</td>\n",
              "      <td>100.0</td>\n",
              "      <td>...</td>\n",
              "      <td>0.00</td>\n",
              "      <td>0.00</td>\n",
              "      <td>0.00</td>\n",
              "      <td>75.00</td>\n",
              "      <td>0.00</td>\n",
              "      <td>25.00</td>\n",
              "      <td>2.0</td>\n",
              "      <td>1.0</td>\n",
              "      <td>NaN</td>\n",
              "      <td>NaN</td>\n",
              "    </tr>\n",
              "    <tr>\n",
              "      <th>2895</th>\n",
              "      <td>2896</td>\n",
              "      <td>159</td>\n",
              "      <td>VETERINARIA</td>\n",
              "      <td>3.0</td>\n",
              "      <td>4.0</td>\n",
              "      <td>4.0</td>\n",
              "      <td>4.0</td>\n",
              "      <td>0.00</td>\n",
              "      <td>0.00</td>\n",
              "      <td>50.0</td>\n",
              "      <td>...</td>\n",
              "      <td>2.86</td>\n",
              "      <td>2.86</td>\n",
              "      <td>17.14</td>\n",
              "      <td>8.57</td>\n",
              "      <td>0.00</td>\n",
              "      <td>68.57</td>\n",
              "      <td>4.0</td>\n",
              "      <td>1.0</td>\n",
              "      <td>9.09</td>\n",
              "      <td>9.09</td>\n",
              "    </tr>\n",
              "    <tr>\n",
              "      <th>2896</th>\n",
              "      <td>2897</td>\n",
              "      <td>160</td>\n",
              "      <td>VETERINARIA</td>\n",
              "      <td>3.0</td>\n",
              "      <td>1.0</td>\n",
              "      <td>4.0</td>\n",
              "      <td>3.0</td>\n",
              "      <td>9.09</td>\n",
              "      <td>0.00</td>\n",
              "      <td>50.0</td>\n",
              "      <td>...</td>\n",
              "      <td>10.81</td>\n",
              "      <td>10.81</td>\n",
              "      <td>18.92</td>\n",
              "      <td>10.81</td>\n",
              "      <td>16.22</td>\n",
              "      <td>32.43</td>\n",
              "      <td>1.0</td>\n",
              "      <td>1.0</td>\n",
              "      <td>10.00</td>\n",
              "      <td>30.00</td>\n",
              "    </tr>\n",
              "    <tr>\n",
              "      <th>2897</th>\n",
              "      <td>2898</td>\n",
              "      <td>161</td>\n",
              "      <td>VETERINARIA</td>\n",
              "      <td>5.0</td>\n",
              "      <td>NaN</td>\n",
              "      <td>NaN</td>\n",
              "      <td>1.0</td>\n",
              "      <td>0.00</td>\n",
              "      <td>100.00</td>\n",
              "      <td>0.0</td>\n",
              "      <td>...</td>\n",
              "      <td>0.00</td>\n",
              "      <td>25.00</td>\n",
              "      <td>0.00</td>\n",
              "      <td>0.00</td>\n",
              "      <td>75.00</td>\n",
              "      <td>0.00</td>\n",
              "      <td>1.0</td>\n",
              "      <td>NaN</td>\n",
              "      <td>NaN</td>\n",
              "      <td>50.00</td>\n",
              "    </tr>\n",
              "  </tbody>\n",
              "</table>\n",
              "<p>2898 rows × 22 columns</p>\n",
              "</div>\n",
              "      <button class=\"colab-df-convert\" onclick=\"convertToInteractive('df-f704374f-6049-463c-aff5-b1b601ed02d9')\"\n",
              "              title=\"Convert this dataframe to an interactive table.\"\n",
              "              style=\"display:none;\">\n",
              "        \n",
              "  <svg xmlns=\"http://www.w3.org/2000/svg\" height=\"24px\"viewBox=\"0 0 24 24\"\n",
              "       width=\"24px\">\n",
              "    <path d=\"M0 0h24v24H0V0z\" fill=\"none\"/>\n",
              "    <path d=\"M18.56 5.44l.94 2.06.94-2.06 2.06-.94-2.06-.94-.94-2.06-.94 2.06-2.06.94zm-11 1L8.5 8.5l.94-2.06 2.06-.94-2.06-.94L8.5 2.5l-.94 2.06-2.06.94zm10 10l.94 2.06.94-2.06 2.06-.94-2.06-.94-.94-2.06-.94 2.06-2.06.94z\"/><path d=\"M17.41 7.96l-1.37-1.37c-.4-.4-.92-.59-1.43-.59-.52 0-1.04.2-1.43.59L10.3 9.45l-7.72 7.72c-.78.78-.78 2.05 0 2.83L4 21.41c.39.39.9.59 1.41.59.51 0 1.02-.2 1.41-.59l7.78-7.78 2.81-2.81c.8-.78.8-2.07 0-2.86zM5.41 20L4 18.59l7.72-7.72 1.47 1.35L5.41 20z\"/>\n",
              "  </svg>\n",
              "      </button>\n",
              "      \n",
              "  <style>\n",
              "    .colab-df-container {\n",
              "      display:flex;\n",
              "      flex-wrap:wrap;\n",
              "      gap: 12px;\n",
              "    }\n",
              "\n",
              "    .colab-df-convert {\n",
              "      background-color: #E8F0FE;\n",
              "      border: none;\n",
              "      border-radius: 50%;\n",
              "      cursor: pointer;\n",
              "      display: none;\n",
              "      fill: #1967D2;\n",
              "      height: 32px;\n",
              "      padding: 0 0 0 0;\n",
              "      width: 32px;\n",
              "    }\n",
              "\n",
              "    .colab-df-convert:hover {\n",
              "      background-color: #E2EBFA;\n",
              "      box-shadow: 0px 1px 2px rgba(60, 64, 67, 0.3), 0px 1px 3px 1px rgba(60, 64, 67, 0.15);\n",
              "      fill: #174EA6;\n",
              "    }\n",
              "\n",
              "    [theme=dark] .colab-df-convert {\n",
              "      background-color: #3B4455;\n",
              "      fill: #D2E3FC;\n",
              "    }\n",
              "\n",
              "    [theme=dark] .colab-df-convert:hover {\n",
              "      background-color: #434B5C;\n",
              "      box-shadow: 0px 1px 3px 1px rgba(0, 0, 0, 0.15);\n",
              "      filter: drop-shadow(0px 1px 2px rgba(0, 0, 0, 0.3));\n",
              "      fill: #FFFFFF;\n",
              "    }\n",
              "  </style>\n",
              "\n",
              "      <script>\n",
              "        const buttonEl =\n",
              "          document.querySelector('#df-f704374f-6049-463c-aff5-b1b601ed02d9 button.colab-df-convert');\n",
              "        buttonEl.style.display =\n",
              "          google.colab.kernel.accessAllowed ? 'block' : 'none';\n",
              "\n",
              "        async function convertToInteractive(key) {\n",
              "          const element = document.querySelector('#df-f704374f-6049-463c-aff5-b1b601ed02d9');\n",
              "          const dataTable =\n",
              "            await google.colab.kernel.invokeFunction('convertToInteractive',\n",
              "                                                     [key], {});\n",
              "          if (!dataTable) return;\n",
              "\n",
              "          const docLinkHtml = 'Like what you see? Visit the ' +\n",
              "            '<a target=\"_blank\" href=https://colab.research.google.com/notebooks/data_table.ipynb>data table notebook</a>'\n",
              "            + ' to learn more about interactive tables.';\n",
              "          element.innerHTML = '';\n",
              "          dataTable['output_type'] = 'display_data';\n",
              "          await google.colab.output.renderOutput(dataTable, element);\n",
              "          const docLink = document.createElement('div');\n",
              "          docLink.innerHTML = docLinkHtml;\n",
              "          element.appendChild(docLink);\n",
              "        }\n",
              "      </script>\n",
              "    </div>\n",
              "  </div>\n",
              "  "
            ]
          },
          "metadata": {},
          "execution_count": 1
        }
      ],
      "source": [
        "import matplotlib.pyplot as plt\n",
        "import pandas as pd\n",
        "\n",
        "df= pd.read_csv ('/content/rubrosCABA.csv',delimiter=';')\n",
        "\n",
        "df\n"
      ]
    },
    {
      "cell_type": "code",
      "source": [
        "!pip install meli\n",
        "import meli\n",
        "\n",
        "APP_ID = 7055354696882166\n",
        "SECRET_KEY = 9jOO7CKPNKL4b1yE3QyPqk2w90SpPLMq\n",
        "\n",
        "def get_auth_token():\n",
        "    client = meli.Meli(client_id=APP_ID, client_secret=SECRET_KEY)\n",
        "    redirect_uri = 'http://localhost:8080'\n",
        "    auth_url = client.auth_url(redirect_uri)\n",
        "    print('Visita esta URL y autoriza la aplicación:', auth_url)\n",
        "    auth_code = input('Ingresa el código de autorización: ')\n",
        "    auth_token = client.authorize(auth_code, redirect_uri)\n",
        "    return auth_token['access_token']\n",
        "\n",
        "access_token = get_auth_token()"
      ],
      "metadata": {
        "id": "_mlH1Fuxo3UT",
        "outputId": "9d6df5a9-614d-4184-9e41-0cede1381afd",
        "colab": {
          "base_uri": "https://localhost:8080/",
          "height": 130
        }
      },
      "execution_count": 4,
      "outputs": [
        {
          "output_type": "error",
          "ename": "SyntaxError",
          "evalue": "ignored",
          "traceback": [
            "\u001b[0;36m  File \u001b[0;32m\"<ipython-input-4-9615a6ccc4a0>\"\u001b[0;36m, line \u001b[0;32m5\u001b[0m\n\u001b[0;31m    SECRET_KEY = 9jOO7CKPNKL4b1yE3QyPqk2w90SpPLMq\u001b[0m\n\u001b[0m                  ^\u001b[0m\n\u001b[0;31mSyntaxError\u001b[0m\u001b[0;31m:\u001b[0m invalid imaginary literal\n"
          ]
        }
      ]
    },
    {
      "cell_type": "code",
      "source": [
        "df.head()\n",
        "\n"
      ],
      "metadata": {
        "colab": {
          "base_uri": "https://localhost:8080/",
          "height": 473
        },
        "id": "pZLTj1Yt0z1_",
        "outputId": "90f81640-cf95-4b12-f317-0dadfe21af05"
      },
      "execution_count": null,
      "outputs": [
        {
          "output_type": "execute_result",
          "data": {
            "text/plain": [
              "   MOC_RUBROS_ID  MOC_ZONAS_ID                  RUBRO  NIVEL_RIESGO  \\\n",
              "0              1             1  INSUMOS PARA EL HOGAR           5.0   \n",
              "1              2             2  INSUMOS PARA EL HOGAR           NaN   \n",
              "2              3             3  INSUMOS PARA EL HOGAR           1.0   \n",
              "3              4             4  INSUMOS PARA EL HOGAR           1.0   \n",
              "4              5             5  INSUMOS PARA EL HOGAR           NaN   \n",
              "\n",
              "   FACTURACION_PROM_ACTUAL  INDICE_CRECIMIENTO  INDICE_ESTABILIDAD  \\\n",
              "0                      1.0                 3.0                 1.0   \n",
              "1                      NaN                 NaN                 NaN   \n",
              "2                      4.0                 4.0                 2.0   \n",
              "3                      2.0                 4.0                 4.0   \n",
              "4                      NaN                 NaN                 NaN   \n",
              "\n",
              "   INDICE_APERTURA  INDICE_CIERRE  INDICE_SUPERVIVENCIA  ...  SUP_MENOS_1  \\\n",
              "0              0.0          16.67                   0.0  ...          0.0   \n",
              "1              0.0           0.00                   NaN  ...          NaN   \n",
              "2              0.0           0.00                 100.0  ...          0.0   \n",
              "3              0.0           0.00                 100.0  ...          0.0   \n",
              "4              0.0           0.00                   NaN  ...          NaN   \n",
              "\n",
              "   SUP_ENTRE_1_Y_2  SUP_ENTRE_2_Y_3  SUP_ENTRE_3_Y_4  SUP_ENTRE_4_Y_5  \\\n",
              "0            10.00            45.00            15.00             0.00   \n",
              "1              NaN              NaN              NaN              NaN   \n",
              "2            18.18            27.27            27.27            27.27   \n",
              "3             0.00             0.00            14.29             0.00   \n",
              "4              NaN              NaN              NaN              NaN   \n",
              "\n",
              "   SUP_MAS_5  FACTURACION_PROM_ANIO_ANT  NIVEL_LOCALES  \\\n",
              "0      30.00                        2.0            1.0   \n",
              "1        NaN                        NaN            NaN   \n",
              "2       0.00                        4.0            1.0   \n",
              "3      85.71                        3.0            1.0   \n",
              "4        NaN                        NaN            NaN   \n",
              "\n",
              "   INDICE_CIERRE_ANIO_ANT  INDICE_APERTURA_ANIO_ANT  \n",
              "0                   16.67                     16.67  \n",
              "1                     NaN                       NaN  \n",
              "2                     NaN                     33.33  \n",
              "3                     NaN                       NaN  \n",
              "4                     NaN                       NaN  \n",
              "\n",
              "[5 rows x 22 columns]"
            ],
            "text/html": [
              "\n",
              "  <div id=\"df-1d79c688-a7ae-46f7-8e62-19bbbc7d1e11\">\n",
              "    <div class=\"colab-df-container\">\n",
              "      <div>\n",
              "<style scoped>\n",
              "    .dataframe tbody tr th:only-of-type {\n",
              "        vertical-align: middle;\n",
              "    }\n",
              "\n",
              "    .dataframe tbody tr th {\n",
              "        vertical-align: top;\n",
              "    }\n",
              "\n",
              "    .dataframe thead th {\n",
              "        text-align: right;\n",
              "    }\n",
              "</style>\n",
              "<table border=\"1\" class=\"dataframe\">\n",
              "  <thead>\n",
              "    <tr style=\"text-align: right;\">\n",
              "      <th></th>\n",
              "      <th>MOC_RUBROS_ID</th>\n",
              "      <th>MOC_ZONAS_ID</th>\n",
              "      <th>RUBRO</th>\n",
              "      <th>NIVEL_RIESGO</th>\n",
              "      <th>FACTURACION_PROM_ACTUAL</th>\n",
              "      <th>INDICE_CRECIMIENTO</th>\n",
              "      <th>INDICE_ESTABILIDAD</th>\n",
              "      <th>INDICE_APERTURA</th>\n",
              "      <th>INDICE_CIERRE</th>\n",
              "      <th>INDICE_SUPERVIVENCIA</th>\n",
              "      <th>...</th>\n",
              "      <th>SUP_MENOS_1</th>\n",
              "      <th>SUP_ENTRE_1_Y_2</th>\n",
              "      <th>SUP_ENTRE_2_Y_3</th>\n",
              "      <th>SUP_ENTRE_3_Y_4</th>\n",
              "      <th>SUP_ENTRE_4_Y_5</th>\n",
              "      <th>SUP_MAS_5</th>\n",
              "      <th>FACTURACION_PROM_ANIO_ANT</th>\n",
              "      <th>NIVEL_LOCALES</th>\n",
              "      <th>INDICE_CIERRE_ANIO_ANT</th>\n",
              "      <th>INDICE_APERTURA_ANIO_ANT</th>\n",
              "    </tr>\n",
              "  </thead>\n",
              "  <tbody>\n",
              "    <tr>\n",
              "      <th>0</th>\n",
              "      <td>1</td>\n",
              "      <td>1</td>\n",
              "      <td>INSUMOS PARA EL HOGAR</td>\n",
              "      <td>5.0</td>\n",
              "      <td>1.0</td>\n",
              "      <td>3.0</td>\n",
              "      <td>1.0</td>\n",
              "      <td>0.0</td>\n",
              "      <td>16.67</td>\n",
              "      <td>0.0</td>\n",
              "      <td>...</td>\n",
              "      <td>0.0</td>\n",
              "      <td>10.00</td>\n",
              "      <td>45.00</td>\n",
              "      <td>15.00</td>\n",
              "      <td>0.00</td>\n",
              "      <td>30.00</td>\n",
              "      <td>2.0</td>\n",
              "      <td>1.0</td>\n",
              "      <td>16.67</td>\n",
              "      <td>16.67</td>\n",
              "    </tr>\n",
              "    <tr>\n",
              "      <th>1</th>\n",
              "      <td>2</td>\n",
              "      <td>2</td>\n",
              "      <td>INSUMOS PARA EL HOGAR</td>\n",
              "      <td>NaN</td>\n",
              "      <td>NaN</td>\n",
              "      <td>NaN</td>\n",
              "      <td>NaN</td>\n",
              "      <td>0.0</td>\n",
              "      <td>0.00</td>\n",
              "      <td>NaN</td>\n",
              "      <td>...</td>\n",
              "      <td>NaN</td>\n",
              "      <td>NaN</td>\n",
              "      <td>NaN</td>\n",
              "      <td>NaN</td>\n",
              "      <td>NaN</td>\n",
              "      <td>NaN</td>\n",
              "      <td>NaN</td>\n",
              "      <td>NaN</td>\n",
              "      <td>NaN</td>\n",
              "      <td>NaN</td>\n",
              "    </tr>\n",
              "    <tr>\n",
              "      <th>2</th>\n",
              "      <td>3</td>\n",
              "      <td>3</td>\n",
              "      <td>INSUMOS PARA EL HOGAR</td>\n",
              "      <td>1.0</td>\n",
              "      <td>4.0</td>\n",
              "      <td>4.0</td>\n",
              "      <td>2.0</td>\n",
              "      <td>0.0</td>\n",
              "      <td>0.00</td>\n",
              "      <td>100.0</td>\n",
              "      <td>...</td>\n",
              "      <td>0.0</td>\n",
              "      <td>18.18</td>\n",
              "      <td>27.27</td>\n",
              "      <td>27.27</td>\n",
              "      <td>27.27</td>\n",
              "      <td>0.00</td>\n",
              "      <td>4.0</td>\n",
              "      <td>1.0</td>\n",
              "      <td>NaN</td>\n",
              "      <td>33.33</td>\n",
              "    </tr>\n",
              "    <tr>\n",
              "      <th>3</th>\n",
              "      <td>4</td>\n",
              "      <td>4</td>\n",
              "      <td>INSUMOS PARA EL HOGAR</td>\n",
              "      <td>1.0</td>\n",
              "      <td>2.0</td>\n",
              "      <td>4.0</td>\n",
              "      <td>4.0</td>\n",
              "      <td>0.0</td>\n",
              "      <td>0.00</td>\n",
              "      <td>100.0</td>\n",
              "      <td>...</td>\n",
              "      <td>0.0</td>\n",
              "      <td>0.00</td>\n",
              "      <td>0.00</td>\n",
              "      <td>14.29</td>\n",
              "      <td>0.00</td>\n",
              "      <td>85.71</td>\n",
              "      <td>3.0</td>\n",
              "      <td>1.0</td>\n",
              "      <td>NaN</td>\n",
              "      <td>NaN</td>\n",
              "    </tr>\n",
              "    <tr>\n",
              "      <th>4</th>\n",
              "      <td>5</td>\n",
              "      <td>5</td>\n",
              "      <td>INSUMOS PARA EL HOGAR</td>\n",
              "      <td>NaN</td>\n",
              "      <td>NaN</td>\n",
              "      <td>NaN</td>\n",
              "      <td>NaN</td>\n",
              "      <td>0.0</td>\n",
              "      <td>0.00</td>\n",
              "      <td>NaN</td>\n",
              "      <td>...</td>\n",
              "      <td>NaN</td>\n",
              "      <td>NaN</td>\n",
              "      <td>NaN</td>\n",
              "      <td>NaN</td>\n",
              "      <td>NaN</td>\n",
              "      <td>NaN</td>\n",
              "      <td>NaN</td>\n",
              "      <td>NaN</td>\n",
              "      <td>NaN</td>\n",
              "      <td>NaN</td>\n",
              "    </tr>\n",
              "  </tbody>\n",
              "</table>\n",
              "<p>5 rows × 22 columns</p>\n",
              "</div>\n",
              "      <button class=\"colab-df-convert\" onclick=\"convertToInteractive('df-1d79c688-a7ae-46f7-8e62-19bbbc7d1e11')\"\n",
              "              title=\"Convert this dataframe to an interactive table.\"\n",
              "              style=\"display:none;\">\n",
              "        \n",
              "  <svg xmlns=\"http://www.w3.org/2000/svg\" height=\"24px\"viewBox=\"0 0 24 24\"\n",
              "       width=\"24px\">\n",
              "    <path d=\"M0 0h24v24H0V0z\" fill=\"none\"/>\n",
              "    <path d=\"M18.56 5.44l.94 2.06.94-2.06 2.06-.94-2.06-.94-.94-2.06-.94 2.06-2.06.94zm-11 1L8.5 8.5l.94-2.06 2.06-.94-2.06-.94L8.5 2.5l-.94 2.06-2.06.94zm10 10l.94 2.06.94-2.06 2.06-.94-2.06-.94-.94-2.06-.94 2.06-2.06.94z\"/><path d=\"M17.41 7.96l-1.37-1.37c-.4-.4-.92-.59-1.43-.59-.52 0-1.04.2-1.43.59L10.3 9.45l-7.72 7.72c-.78.78-.78 2.05 0 2.83L4 21.41c.39.39.9.59 1.41.59.51 0 1.02-.2 1.41-.59l7.78-7.78 2.81-2.81c.8-.78.8-2.07 0-2.86zM5.41 20L4 18.59l7.72-7.72 1.47 1.35L5.41 20z\"/>\n",
              "  </svg>\n",
              "      </button>\n",
              "      \n",
              "  <style>\n",
              "    .colab-df-container {\n",
              "      display:flex;\n",
              "      flex-wrap:wrap;\n",
              "      gap: 12px;\n",
              "    }\n",
              "\n",
              "    .colab-df-convert {\n",
              "      background-color: #E8F0FE;\n",
              "      border: none;\n",
              "      border-radius: 50%;\n",
              "      cursor: pointer;\n",
              "      display: none;\n",
              "      fill: #1967D2;\n",
              "      height: 32px;\n",
              "      padding: 0 0 0 0;\n",
              "      width: 32px;\n",
              "    }\n",
              "\n",
              "    .colab-df-convert:hover {\n",
              "      background-color: #E2EBFA;\n",
              "      box-shadow: 0px 1px 2px rgba(60, 64, 67, 0.3), 0px 1px 3px 1px rgba(60, 64, 67, 0.15);\n",
              "      fill: #174EA6;\n",
              "    }\n",
              "\n",
              "    [theme=dark] .colab-df-convert {\n",
              "      background-color: #3B4455;\n",
              "      fill: #D2E3FC;\n",
              "    }\n",
              "\n",
              "    [theme=dark] .colab-df-convert:hover {\n",
              "      background-color: #434B5C;\n",
              "      box-shadow: 0px 1px 3px 1px rgba(0, 0, 0, 0.15);\n",
              "      filter: drop-shadow(0px 1px 2px rgba(0, 0, 0, 0.3));\n",
              "      fill: #FFFFFF;\n",
              "    }\n",
              "  </style>\n",
              "\n",
              "      <script>\n",
              "        const buttonEl =\n",
              "          document.querySelector('#df-1d79c688-a7ae-46f7-8e62-19bbbc7d1e11 button.colab-df-convert');\n",
              "        buttonEl.style.display =\n",
              "          google.colab.kernel.accessAllowed ? 'block' : 'none';\n",
              "\n",
              "        async function convertToInteractive(key) {\n",
              "          const element = document.querySelector('#df-1d79c688-a7ae-46f7-8e62-19bbbc7d1e11');\n",
              "          const dataTable =\n",
              "            await google.colab.kernel.invokeFunction('convertToInteractive',\n",
              "                                                     [key], {});\n",
              "          if (!dataTable) return;\n",
              "\n",
              "          const docLinkHtml = 'Like what you see? Visit the ' +\n",
              "            '<a target=\"_blank\" href=https://colab.research.google.com/notebooks/data_table.ipynb>data table notebook</a>'\n",
              "            + ' to learn more about interactive tables.';\n",
              "          element.innerHTML = '';\n",
              "          dataTable['output_type'] = 'display_data';\n",
              "          await google.colab.output.renderOutput(dataTable, element);\n",
              "          const docLink = document.createElement('div');\n",
              "          docLink.innerHTML = docLinkHtml;\n",
              "          element.appendChild(docLink);\n",
              "        }\n",
              "      </script>\n",
              "    </div>\n",
              "  </div>\n",
              "  "
            ]
          },
          "metadata": {},
          "execution_count": 2
        }
      ]
    },
    {
      "cell_type": "markdown",
      "source": [
        "# Relación entre Nivel de Riesgo de instalar un local comercial en una zona e Indice de Cierre de comercios** **texto en negrita**"
      ],
      "metadata": {
        "id": "VK0sWAsqTS7E"
      }
    },
    {
      "cell_type": "markdown",
      "source": [
        "H0) Si deseo instalar un local comercial, en una zona donde el nivel de riesgo es mayor, tendré mayores probabilidades de que mi negocio no funcione y deba cerrar el local.\n",
        "\n",
        "H1) Si deseo instalar un local comercial, en una zona donde el nivel de riesgo es mayor, tendré pocas probabilidades de que mi negocio no funcione y deba cerrar el local. "
      ],
      "metadata": {
        "id": "5e-2ol_Bd2-7"
      }
    },
    {
      "cell_type": "code",
      "source": [
        "import requests\n",
        "import json\n"
      ],
      "metadata": {
        "id": "BiXy9XT8mGyF"
      },
      "execution_count": null,
      "outputs": []
    },
    {
      "cell_type": "code",
      "source": [
        "plt.scatter(df['NIVEL_RIESGO'],df['INDICE_CIERRE'], alpha=0.7)\n",
        "plt.style.use('bmh')\n",
        "plt.show()\n",
        "\n",
        "print (df.INDICE_CIERRE.value_counts())\n",
        "\n",
        "df.INDICE_CIERRE.mean()\n"
      ],
      "metadata": {
        "colab": {
          "base_uri": "https://localhost:8080/",
          "height": 656
        },
        "id": "cOMIw7TqOlDh",
        "outputId": "193de92f-7cab-4b23-e38d-06db7d0020d3"
      },
      "execution_count": null,
      "outputs": [
        {
          "output_type": "display_data",
          "data": {
            "text/plain": [
              "<Figure size 640x480 with 1 Axes>"
            ],
            "image/png": "[encoded data removed]"
          },
          "metadata": {}
        },
        {
          "output_type": "stream",
          "name": "stdout",
          "text": [
            "0.00     2063\n",
            "7.69       31\n",
            "9.09       31\n",
            "14.29      27\n",
            "12.50      26\n",
            "         ... \n",
            "0.74        1\n",
            "1.28        1\n",
            "3.59        1\n",
            "1.36        1\n",
            "4.71        1\n",
            "Name: INDICE_CIERRE, Length: 182, dtype: int64\n"
          ]
        },
        {
          "output_type": "execute_result",
          "data": {
            "text/plain": [
              "2.440900621118012"
            ]
          },
          "metadata": {},
          "execution_count": 2
        }
      ]
    },
    {
      "cell_type": "markdown",
      "source": [
        "En la gráfica podemos observar que existe una relación lineal positiva entre las variables indice de cierre y nivel de riesgo. Ante incrementos en el nivel de riesgo que presenta la zona comercial, se incrementa el indice de cierre de locales comerciales."
      ],
      "metadata": {
        "id": "e8g3t3EzJa3S"
      }
    },
    {
      "cell_type": "code",
      "source": [
        "import seaborn as sns\n",
        "sns.histplot(data=df, x=\"INDICE_CIERRE\",bins=20)"
      ],
      "metadata": {
        "colab": {
          "base_uri": "https://localhost:8080/",
          "height": 466
        },
        "id": "ikvgOUQL6TQv",
        "outputId": "a3cd1439-b5fa-42fc-8aa1-958f9720424c"
      },
      "execution_count": null,
      "outputs": [
        {
          "output_type": "execute_result",
          "data": {
            "text/plain": [
              "<Axes: xlabel='INDICE_CIERRE', ylabel='Count'>"
            ]
          },
          "metadata": {},
          "execution_count": 3
        },
        {
          "output_type": "display_data",
          "data": {
            "text/plain": [
              "<Figure size 640x480 with 1 Axes>"
            ],
            "image/png": "[encoded data removed]"
          },
          "metadata": {}
        }
      ]
    },
    {
      "cell_type": "markdown",
      "source": [
        "En el histograma podemos ver que la mayor parte de los datos que presenta la variable indice de cierre son datos nulos o 0 (sesgo positivo). El resto de los valores oscilan entre el 1 y el 100%, siendo el promedio del 2,44%."
      ],
      "metadata": {
        "id": "Wc57i7TfLR80"
      }
    },
    {
      "cell_type": "code",
      "source": [
        "lower_limit = 0\n",
        "upper_limit = 10\n",
        "\n",
        "filtered_data = [ x for x in df.INDICE_CIERRE if lower_limit < x < upper_limit]\n",
        "count = len(filtered_data)\n",
        "\n",
        "sns.countplot(filtered_data)"
      ],
      "metadata": {
        "id": "5WYrr7-yORPn",
        "outputId": "afc0625a-cdc7-4099-bdcb-974ef25626de",
        "colab": {
          "base_uri": "https://localhost:8080/",
          "height": 442
        }
      },
      "execution_count": null,
      "outputs": [
        {
          "output_type": "execute_result",
          "data": {
            "text/plain": [
              "<Axes: ylabel='count'>"
            ]
          },
          "metadata": {},
          "execution_count": 19
        },
        {
          "output_type": "display_data",
          "data": {
            "text/plain": [
              "<Figure size 640x480 with 1 Axes>"
            ],
            "image/png": "[encoded data removed]"
          },
          "metadata": {}
        }
      ]
    },
    {
      "cell_type": "markdown",
      "source": [
        "# **Gráfica de Caja y bigotes para la variable INDICE_CIERRE**"
      ],
      "metadata": {
        "id": "7o8nfGhw6J__"
      }
    },
    {
      "cell_type": "code",
      "source": [
        "plt.figure(figsize=(10,6))\n",
        "sns.boxplot(x=df.NIVEL_RIESGO, y= df.INDICE_CIERRE, showfliers=False, whis= 1.5)\n",
        "plt.title('Boxplot comparativo Indice de Cierre vs Nivel de Riesgo')\n",
        "plt.xlabel('Nivel de Riesgo')\n",
        "plt.ylabel('Indice de Cierre')\n",
        "\n"
      ],
      "metadata": {
        "colab": {
          "base_uri": "https://localhost:8080/",
          "height": 581
        },
        "id": "gefYqjcE_ZiQ",
        "outputId": "4a95ae30-c740-4120-baf8-48071c704208"
      },
      "execution_count": null,
      "outputs": [
        {
          "output_type": "execute_result",
          "data": {
            "text/plain": [
              "Text(0, 0.5, 'Indice de Cierre')"
            ]
          },
          "metadata": {},
          "execution_count": 29
        },
        {
          "output_type": "display_data",
          "data": {
            "text/plain": [
              "<Figure size 1000x600 with 1 Axes>"
            ],
            "image/png": "[encoded data removed]"
          },
          "metadata": {}
        }
      ]
    },
    {
      "cell_type": "markdown",
      "source": [
        "En el gráfico de caja y bigotes podemos ver que a medida que el nivel de riesgo aumenta, la distribución de los valores de indice de cierre se amplifica. Por ejemplo, cuando analizamos como se distribuyen los valores cuando el indice de riesgo es igual a 5, el 50% de los valores oscilan entre el 17 y el 55, con una mediana de 22. "
      ],
      "metadata": {
        "id": "m5S2BB-PMluF"
      }
    },
    {
      "cell_type": "code",
      "source": [
        "import numpy as np\n",
        "df = df.fillna(0)\n",
        "df['NIVEL_RIESGO'] = df['NIVEL_RIESGO'].replace('NULL', '0')\n",
        "df['INDICE_CIERRE'] = df['INDICE_CIERRE'].replace('NULL', '0')\n",
        "\n",
        "np.corrcoef(df.NIVEL_RIESGO, df.INDICE_CIERRE)"
      ],
      "metadata": {
        "colab": {
          "base_uri": "https://localhost:8080/"
        },
        "id": "Yz8AsO7z64Zx",
        "outputId": "af30f8a1-84d3-4b56-b67b-01f77fe5f9bb"
      },
      "execution_count": null,
      "outputs": [
        {
          "output_type": "execute_result",
          "data": {
            "text/plain": [
              "array([[1.        , 0.54010218],\n",
              "       [0.54010218, 1.        ]])"
            ]
          },
          "metadata": {},
          "execution_count": 4
        }
      ]
    },
    {
      "cell_type": "markdown",
      "source": [
        "H0) Si el indice de estabilidad es alto, será más probable que la superficie instalada del establecimiento comercial sea mayor.\n",
        "\n",
        "H1) Si el indice de estabilidad es alto, será poco probable que la superficie instalada del establecimiento comercial sea mayor."
      ],
      "metadata": {
        "id": "DALHGlOQjjQ4"
      }
    },
    {
      "cell_type": "markdown",
      "source": [
        "# ***Relación entre indice de estabilidad y la superfice instalada de cada local comercial ***"
      ],
      "metadata": {
        "id": "RvMEZH0oFfLr"
      }
    },
    {
      "cell_type": "code",
      "source": [
        "plt.scatter(df['INDICE_ESTABILIDAD'],df['SUP_MAS_5'], alpha=0.7)\n",
        "plt.style.use('bmh')\n",
        "plt.show()"
      ],
      "metadata": {
        "colab": {
          "base_uri": "https://localhost:8080/",
          "height": 262
        },
        "id": "t96Zz3JVCpra",
        "outputId": "f2bb4d09-df88-42e8-8862-4384498ad28c"
      },
      "execution_count": null,
      "outputs": [
        {
          "output_type": "display_data",
          "data": {
            "text/plain": [
              "<Figure size 432x288 with 1 Axes>"
            ],
            "image/png": "[encoded data removed]"
          },
          "metadata": {
            "needs_background": "light"
          }
        }
      ]
    },
    {
      "cell_type": "code",
      "source": [
        "df.INDICE_ESTABILIDAD.mean()\n",
        "df = df.fillna(0)\n",
        "\n",
        "np.corrcoef(df.INDICE_ESTABILIDAD, df.SUP_MAS_5)"
      ],
      "metadata": {
        "colab": {
          "base_uri": "https://localhost:8080/"
        },
        "id": "I_HbWoYkn98M",
        "outputId": "5e453ac1-b314-4b0a-f44a-408da05fc59b"
      },
      "execution_count": null,
      "outputs": [
        {
          "output_type": "execute_result",
          "data": {
            "text/plain": [
              "array([[1.        , 0.65897163],\n",
              "       [0.65897163, 1.        ]])"
            ]
          },
          "metadata": {},
          "execution_count": 14
        }
      ]
    },
    {
      "cell_type": "markdown",
      "source": [
        "Determinar que proporción del total de locales comerciales son de tamaño pequeño (muy chico+chico) frente al total de locales comerciales"
      ],
      "metadata": {
        "id": "g-I-Cwhh1X55"
      }
    },
    {
      "cell_type": "markdown",
      "source": [
        "# **Proporción del total que representa cada local comercial en función a su tamaño**"
      ],
      "metadata": {
        "id": "Ig9pzJDgF7Tx"
      }
    },
    {
      "cell_type": "code",
      "source": [
        "df.groupby(['NIVEL_LOCALES']).mean()\n",
        "tamaniocom = ['MUY CHICO', 'CHICO', 'MEDIANO',\n",
        "        'GRANDE', 'MUY GRANDE']\n",
        "plt.pie(df['NIVEL_LOCALES'].value_counts(), labels=tamaniocom, autopct='%1.1f%%')\n",
        "plt.title('Proporción que representa cada local comercial en función a su tamaño')\n",
        "plt.show()\n",
        "df['NIVEL_LOCALES'].value_counts()"
      ],
      "metadata": {
        "colab": {
          "base_uri": "https://localhost:8080/",
          "height": 370
        },
        "id": "hh-7atkX4dRU",
        "outputId": "57a14902-a832-443f-c8ba-0a2e8e2b7e6c"
      },
      "execution_count": null,
      "outputs": [
        {
          "output_type": "display_data",
          "data": {
            "text/plain": [
              "<Figure size 432x288 with 1 Axes>"
            ],
            "image/png": "[encoded data removed]"
          },
          "metadata": {}
        },
        {
          "output_type": "execute_result",
          "data": {
            "text/plain": [
              "1.0    1620\n",
              "2.0     543\n",
              "3.0     258\n",
              "5.0     207\n",
              "4.0     115\n",
              "Name: NIVEL_LOCALES, dtype: int64"
            ]
          },
          "metadata": {},
          "execution_count": 4
        }
      ]
    },
    {
      "cell_type": "markdown",
      "source": [
        "El 80 % aprox del total de locales comerciales son de tamaño pequeño."
      ],
      "metadata": {
        "id": "J1OJgMpF-3vt"
      }
    },
    {
      "cell_type": "code",
      "source": [
        "#sumar cantidad de datos iguales en una columna\n",
        "\n",
        "lista_valores= df ['NIVEL_LOCALES'].tolist()\n",
        "lista_valores\n",
        "from collections import Counter\n",
        "contador= Counter (lista_valores)\n",
        "tamaniocom = ['MUY CHICO', 'CHICO', 'MEDIANO',\n",
        "        'GRANDE', 'MUY GRANDE']\n",
        "print ('Rubros de la ciudad de Buenos Aires', contador)\n",
        "#plt.pie (df['NIVEL_LOCALES'],labels= tamaniocom)\n",
        "#armar un if que cuente del 1 al 5 y sume los valores, eliminando los nan\n",
        "fig,ax = plt.subplots()\n",
        "ax.pie(df['NIVEL_LOCALES'])\n",
        "#plt.show()"
      ],
      "metadata": {
        "id": "rGaaY7Z4TRcP"
      },
      "execution_count": null,
      "outputs": []
    },
    {
      "cell_type": "code",
      "source": [
        "NIVEL_RIESGO = df\n",
        "import numpy as np\n",
        "fig, ax = plt.subplots()\n",
        "ax.scatter(NIVEL_RIESGO, FACTURACION_PROM_ACTUAL, alpha=0.7) # en vez de ax.plot que es para graficas de lineas\n",
        "#ax.scatter es para graficos de puntos\n",
        "#ax.set_title('Nivel de riesgo vs. Facturación Promedio Actual')\n",
        "#ax.set_xlabel('Nivel de Riesgo)')\n",
        "#ax.set_ylabel('Facturación Promedio Actual')\n",
        "#b, a = np.polyfit(NIVEL_RIESGO, FACTURACION_PROM_ACTUAL, deg=1) # y = xb +a :b pediente, a intercepto \n",
        "#xseq = np.linspace(100, 250, num=50)\n",
        "ax.plot(xseq, a + b * xseq, color=\"k\", lw=2.5)"
      ],
      "metadata": {
        "id": "QqRYXGPK5zk6"
      },
      "execution_count": null,
      "outputs": []
    },
    {
      "cell_type": "code",
      "source": [
        "from google.colab import drive\n",
        "import os\n",
        "drive.mount('/content/gdrive')\n",
        "%cd '/content/drive/MyDrive/Colab Notebooks/Datasets+Fratuzzoultimo.ipynb'\n",
        "\n",
        "\n",
        "#MOC_RUBROS_ID"
      ],
      "metadata": {
        "id": "7B1qxmthq4qd",
        "colab": {
          "base_uri": "https://localhost:8080/"
        },
        "outputId": "354ede91-f6c6-48d4-b36b-a0cf503922d2"
      },
      "execution_count": null,
      "outputs": [
        {
          "output_type": "stream",
          "name": "stdout",
          "text": [
            "Mounted at /content/gdrive\n",
            "[Errno 107] Transport endpoint is not connected: '/content/drive/MyDrive/Colab Notebooks/Datasets+Fratuzzoultimo.ipynb'\n",
            "/content\n"
          ]
        }
      ]
    },
    {
      "cell_type": "code",
      "source": [
        "import seaborn as sns\n",
        "rubrosCABA = sns.load_dataset(name = \"rubrosCABA\")\n",
        "\n",
        "rubrosCABA = sns.load_dataset(\"rubrosCABA\")\n",
        "fig, ax = plt.subplots()#1, 2, figsize= None, gridspec_kw=dict(width_ratios=[2, 2])) #porcentaje de anchura\n",
        "#sns.scatterplot(data= rubrosCABA, x=\"NIVEL_RIESGO\", y=\"FACTURACION_PROM_ACTUAL\", hue=\"MOC_RUBROS_ID\", ax=axs[0])\n",
        "#sns.histplot(data= rubrosCABA, x=\"MOC_RUBROS_ID\", hue=\"MOC_RUBROS_ID\", shrink=0.8, alpha=.8, legend=False, ax=axs[1]) \n",
        "#f.tight_layout() # reajusta los margenes de los graficos para que sean más limpios"
      ],
      "metadata": {
        "id": "syJrdJCeFtXC"
      },
      "execution_count": null,
      "outputs": []
    }
  ]
}